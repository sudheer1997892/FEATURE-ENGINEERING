{
 "cells": [
  {
   "cell_type": "markdown",
   "id": "227c11c5",
   "metadata": {},
   "source": [
    "#### techniques:\n",
    "1)frequent category imputation"
   ]
  },
  {
   "cell_type": "code",
   "execution_count": 1,
   "id": "1dbaf2e4",
   "metadata": {},
   "outputs": [],
   "source": [
    "import pandas as pd"
   ]
  },
  {
   "cell_type": "code",
   "execution_count": 2,
   "id": "8f293fd6",
   "metadata": {},
   "outputs": [],
   "source": [
    "import os"
   ]
  },
  {
   "cell_type": "code",
   "execution_count": 3,
   "id": "ff4c95d2",
   "metadata": {},
   "outputs": [
    {
     "data": {
      "text/plain": [
       "['.ipynb_checkpoints',\n",
       " 'Handling Categorical features.ipynb',\n",
       " 'Handling Missing--categerical features.ipynb',\n",
       " 'Handling-Missing values.ipynb',\n",
       " 'house hold.csv',\n",
       " 'mercedes.csv',\n",
       " 'train.csv',\n",
       " 'Untitled.ipynb',\n",
       " 'Untitled1.ipynb']"
      ]
     },
     "execution_count": 3,
     "metadata": {},
     "output_type": "execute_result"
    }
   ],
   "source": [
    "os.listdir()"
   ]
  },
  {
   "cell_type": "code",
   "execution_count": 4,
   "id": "bf81d019",
   "metadata": {},
   "outputs": [],
   "source": [
    "df=pd.read_csv('house hold.csv', usecols=['BsmtQual','FireplaceQu','GarageType','SalePrice'])\n"
   ]
  },
  {
   "cell_type": "code",
   "execution_count": 5,
   "id": "36257b26",
   "metadata": {},
   "outputs": [
    {
     "data": {
      "text/html": [
       "<div>\n",
       "<style scoped>\n",
       "    .dataframe tbody tr th:only-of-type {\n",
       "        vertical-align: middle;\n",
       "    }\n",
       "\n",
       "    .dataframe tbody tr th {\n",
       "        vertical-align: top;\n",
       "    }\n",
       "\n",
       "    .dataframe thead th {\n",
       "        text-align: right;\n",
       "    }\n",
       "</style>\n",
       "<table border=\"1\" class=\"dataframe\">\n",
       "  <thead>\n",
       "    <tr style=\"text-align: right;\">\n",
       "      <th></th>\n",
       "      <th>BsmtQual</th>\n",
       "      <th>FireplaceQu</th>\n",
       "      <th>GarageType</th>\n",
       "      <th>SalePrice</th>\n",
       "    </tr>\n",
       "  </thead>\n",
       "  <tbody>\n",
       "    <tr>\n",
       "      <th>0</th>\n",
       "      <td>Gd</td>\n",
       "      <td>NaN</td>\n",
       "      <td>Attchd</td>\n",
       "      <td>208500</td>\n",
       "    </tr>\n",
       "    <tr>\n",
       "      <th>1</th>\n",
       "      <td>Gd</td>\n",
       "      <td>TA</td>\n",
       "      <td>Attchd</td>\n",
       "      <td>181500</td>\n",
       "    </tr>\n",
       "    <tr>\n",
       "      <th>2</th>\n",
       "      <td>Gd</td>\n",
       "      <td>TA</td>\n",
       "      <td>Attchd</td>\n",
       "      <td>223500</td>\n",
       "    </tr>\n",
       "    <tr>\n",
       "      <th>3</th>\n",
       "      <td>TA</td>\n",
       "      <td>Gd</td>\n",
       "      <td>Detchd</td>\n",
       "      <td>140000</td>\n",
       "    </tr>\n",
       "    <tr>\n",
       "      <th>4</th>\n",
       "      <td>Gd</td>\n",
       "      <td>TA</td>\n",
       "      <td>Attchd</td>\n",
       "      <td>250000</td>\n",
       "    </tr>\n",
       "  </tbody>\n",
       "</table>\n",
       "</div>"
      ],
      "text/plain": [
       "  BsmtQual FireplaceQu GarageType  SalePrice\n",
       "0       Gd         NaN     Attchd     208500\n",
       "1       Gd          TA     Attchd     181500\n",
       "2       Gd          TA     Attchd     223500\n",
       "3       TA          Gd     Detchd     140000\n",
       "4       Gd          TA     Attchd     250000"
      ]
     },
     "execution_count": 5,
     "metadata": {},
     "output_type": "execute_result"
    }
   ],
   "source": [
    "df.head()"
   ]
  },
  {
   "cell_type": "code",
   "execution_count": 12,
   "id": "b187877b",
   "metadata": {},
   "outputs": [
    {
     "data": {
      "text/plain": [
       "SalePrice      0.000000\n",
       "BsmtQual       0.025342\n",
       "GarageType     0.055479\n",
       "FireplaceQu    0.472603\n",
       "dtype: float64"
      ]
     },
     "execution_count": 12,
     "metadata": {},
     "output_type": "execute_result"
    }
   ],
   "source": [
    "df.isnull().mean().sort_values()"
   ]
  },
  {
   "cell_type": "code",
   "execution_count": 7,
   "id": "dc5581ed",
   "metadata": {},
   "outputs": [],
   "source": [
    "import seaborn as sns"
   ]
  },
  {
   "cell_type": "code",
   "execution_count": 9,
   "id": "43903eb9",
   "metadata": {},
   "outputs": [
    {
     "data": {
      "text/plain": [
       "<AxesSubplot:xlabel='BsmtQual', ylabel='count'>"
      ]
     },
     "execution_count": 9,
     "metadata": {},
     "output_type": "execute_result"
    },
    {
     "data": {
      "image/png": "[encoded data removed]",
      "text/plain": [
       "<Figure size 432x288 with 1 Axes>"
      ]
     },
     "metadata": {
      "needs_background": "light"
     },
     "output_type": "display_data"
    }
   ],
   "source": [
    "sns.countplot(x=\"BsmtQual\",data=df)"
   ]
  },
  {
   "cell_type": "code",
   "execution_count": 14,
   "id": "1766f910",
   "metadata": {},
   "outputs": [
    {
     "data": {
      "text/plain": [
       "<pandas.core.groupby.generic.DataFrameGroupBy object at 0x00000231D218CCA0>"
      ]
     },
     "execution_count": 14,
     "metadata": {},
     "output_type": "execute_result"
    }
   ],
   "source": [
    "df.groupby('BsmtQual')\n"
   ]
  },
  {
   "cell_type": "code",
   "execution_count": 15,
   "id": "e3afe49e",
   "metadata": {},
   "outputs": [
    {
     "name": "stdout",
     "output_type": "stream",
     "text": [
      "Ex\n",
      "     BsmtQual FireplaceQu GarageType  SalePrice\n",
      "6          Ex          Gd     Attchd     307000\n",
      "11         Ex          Gd    BuiltIn     345000\n",
      "20         Ex          Gd    BuiltIn     325300\n",
      "27         Ex          Gd     Attchd     306000\n",
      "32         Ex         NaN     Attchd     179900\n",
      "...       ...         ...        ...        ...\n",
      "1388       Ex          Gd     Attchd     377500\n",
      "1405       Ex          Gd     Attchd     275000\n",
      "1437       Ex          Gd     Attchd     394617\n",
      "1440       Ex          Gd     Detchd     191000\n",
      "1442       Ex          Ex     Attchd     310000\n",
      "\n",
      "[121 rows x 4 columns]\n",
      "Fa\n",
      "     BsmtQual FireplaceQu GarageType  SalePrice\n",
      "74         Fa         NaN     Detchd     107400\n",
      "106        Fa         NaN     Detchd     100000\n",
      "181        Fa          Gd     Detchd     200100\n",
      "184        Fa         NaN     Attchd     127000\n",
      "187        Fa         NaN     Detchd     135000\n",
      "202        Fa         NaN     Attchd     112000\n",
      "246        Fa         NaN     Detchd     137000\n",
      "264        Fa         NaN     Detchd      73000\n",
      "375        Fa         NaN        NaN      61000\n",
      "383        Fa         NaN     Detchd      76000\n",
      "398        Fa         NaN     Detchd      67000\n",
      "436        Fa         NaN     Detchd     116000\n",
      "479        Fa         NaN     Detchd      89471\n",
      "494        Fa         NaN     Attchd      91300\n",
      "531        Fa         NaN     Detchd     128000\n",
      "630        Fa         NaN     Detchd     124000\n",
      "638        Fa         NaN        NaN      85000\n",
      "662        Fa          TA     Attchd     110000\n",
      "669        Fa          Gd     Detchd     137500\n",
      "740        Fa         NaN     Detchd     132000\n",
      "771        Fa         NaN     Detchd     102000\n",
      "786        Fa         NaN     Detchd     139000\n",
      "821        Fa         NaN     Detchd      93000\n",
      "935        Fa         NaN     Detchd      79900\n",
      "1001       Fa         NaN     Detchd      86000\n",
      "1034       Fa          Gd    Basment     119750\n",
      "1072       Fa          TA     Detchd      91500\n",
      "1076       Fa          TA     Attchd     170000\n",
      "1186       Fa         NaN    CarPort      95000\n",
      "1257       Fa         NaN        NaN      99900\n",
      "1315       Fa          Gd     Attchd     206900\n",
      "1382       Fa         NaN     Detchd     157000\n",
      "1393       Fa          TA     Detchd     163000\n",
      "1408       Fa         NaN     Detchd     125500\n",
      "1448       Fa         NaN     Detchd     112000\n",
      "Gd\n",
      "     BsmtQual FireplaceQu GarageType  SalePrice\n",
      "0          Gd         NaN     Attchd     208500\n",
      "1          Gd          TA     Attchd     181500\n",
      "2          Gd          TA     Attchd     223500\n",
      "4          Gd          TA     Attchd     250000\n",
      "5          Gd         NaN     Attchd     143000\n",
      "...       ...         ...        ...        ...\n",
      "1452       Gd         NaN    Basment     145000\n",
      "1453       Gd         NaN        NaN      84500\n",
      "1454       Gd         NaN     Attchd     185000\n",
      "1455       Gd          TA     Attchd     175000\n",
      "1456       Gd          TA     Attchd     210000\n",
      "\n",
      "[618 rows x 4 columns]\n",
      "TA\n",
      "     BsmtQual FireplaceQu GarageType  SalePrice\n",
      "3          TA          Gd     Detchd     140000\n",
      "8          TA          TA     Detchd     129900\n",
      "9          TA          TA     Attchd     118000\n",
      "10         TA         NaN     Detchd     129500\n",
      "12         TA         NaN     Detchd     144000\n",
      "...       ...         ...        ...        ...\n",
      "1445       TA         NaN     Detchd     129000\n",
      "1446       TA         NaN     Attchd     157900\n",
      "1457       TA          Gd     Attchd     266500\n",
      "1458       TA         NaN     Attchd     142125\n",
      "1459       TA         NaN     Attchd     147500\n",
      "\n",
      "[649 rows x 4 columns]\n"
     ]
    }
   ],
   "source": [
    "for i,j in df.groupby('BsmtQual'):\n",
    "    print(i)\n",
    "    print(j)"
   ]
  },
  {
   "cell_type": "code",
   "execution_count": 36,
   "id": "4a2daf3a",
   "metadata": {},
   "outputs": [
    {
     "name": "stdout",
     "output_type": "stream",
     "text": [
      "Ex\n",
      "6       Ex\n",
      "11      Ex\n",
      "20      Ex\n",
      "27      Ex\n",
      "32      Ex\n",
      "        ..\n",
      "1388    Ex\n",
      "1405    Ex\n",
      "1437    Ex\n",
      "1440    Ex\n",
      "1442    Ex\n",
      "Name: BsmtQual, Length: 121, dtype: object\n",
      "Fa\n",
      "74      Fa\n",
      "106     Fa\n",
      "181     Fa\n",
      "184     Fa\n",
      "187     Fa\n",
      "202     Fa\n",
      "246     Fa\n",
      "264     Fa\n",
      "375     Fa\n",
      "383     Fa\n",
      "398     Fa\n",
      "436     Fa\n",
      "479     Fa\n",
      "494     Fa\n",
      "531     Fa\n",
      "630     Fa\n",
      "638     Fa\n",
      "662     Fa\n",
      "669     Fa\n",
      "740     Fa\n",
      "771     Fa\n",
      "786     Fa\n",
      "821     Fa\n",
      "935     Fa\n",
      "1001    Fa\n",
      "1034    Fa\n",
      "1072    Fa\n",
      "1076    Fa\n",
      "1186    Fa\n",
      "1257    Fa\n",
      "1315    Fa\n",
      "1382    Fa\n",
      "1393    Fa\n",
      "1408    Fa\n",
      "1448    Fa\n",
      "Name: BsmtQual, dtype: object\n",
      "Gd\n",
      "0       Gd\n",
      "1       Gd\n",
      "2       Gd\n",
      "4       Gd\n",
      "5       Gd\n",
      "        ..\n",
      "1452    Gd\n",
      "1453    Gd\n",
      "1454    Gd\n",
      "1455    Gd\n",
      "1456    Gd\n",
      "Name: BsmtQual, Length: 618, dtype: object\n",
      "TA\n",
      "3       TA\n",
      "8       TA\n",
      "9       TA\n",
      "10      TA\n",
      "12      TA\n",
      "        ..\n",
      "1445    TA\n",
      "1446    TA\n",
      "1457    TA\n",
      "1458    TA\n",
      "1459    TA\n",
      "Name: BsmtQual, Length: 649, dtype: object\n"
     ]
    }
   ],
   "source": [
    "for i,j in df.groupby(['BsmtQual'])[\"BsmtQual\"]:\n",
    "    print(i)\n",
    "    print(j)\n"
   ]
  },
  {
   "cell_type": "code",
   "execution_count": 17,
   "id": "a9c79bac",
   "metadata": {},
   "outputs": [
    {
     "data": {
      "text/plain": [
       "BsmtQual\n",
       "Ex    121\n",
       "Fa     35\n",
       "Gd    618\n",
       "TA    649\n",
       "Name: BsmtQual, dtype: int64"
      ]
     },
     "execution_count": 17,
     "metadata": {},
     "output_type": "execute_result"
    }
   ],
   "source": [
    " df.groupby(['BsmtQual'])[\"BsmtQual\"].count()"
   ]
  },
  {
   "cell_type": "code",
   "execution_count": 27,
   "id": "8261d864",
   "metadata": {},
   "outputs": [
    {
     "data": {
      "text/plain": [
       "TA    649\n",
       "Gd    618\n",
       "Ex    121\n",
       "Fa     35\n",
       "Name: BsmtQual, dtype: int64"
      ]
     },
     "execution_count": 27,
     "metadata": {},
     "output_type": "execute_result"
    }
   ],
   "source": [
    "df[\"BsmtQual\"].value_counts()"
   ]
  },
  {
   "cell_type": "code",
   "execution_count": 39,
   "id": "0df7d5fb",
   "metadata": {},
   "outputs": [
    {
     "data": {
      "text/plain": [
       "<AxesSubplot:>"
      ]
     },
     "execution_count": 39,
     "metadata": {},
     "output_type": "execute_result"
    },
    {
     "data": {
      "image/png": "[encoded data removed]",
      "text/plain": [
       "<Figure size 432x288 with 1 Axes>"
      ]
     },
     "metadata": {
      "needs_background": "light"
     },
     "output_type": "display_data"
    }
   ],
   "source": [
    "df[\"BsmtQual\"].value_counts().plot.bar()"
   ]
  },
  {
   "cell_type": "code",
   "execution_count": 40,
   "id": "33b28811",
   "metadata": {},
   "outputs": [
    {
     "data": {
      "text/plain": [
       "<AxesSubplot:>"
      ]
     },
     "execution_count": 40,
     "metadata": {},
     "output_type": "execute_result"
    },
    {
     "data": {
      "image/png": "[encoded data removed]",
      "text/plain": [
       "<Figure size 432x288 with 1 Axes>"
      ]
     },
     "metadata": {
      "needs_background": "light"
     },
     "output_type": "display_data"
    }
   ],
   "source": [
    "df[\"GarageType\"].value_counts().plot.bar()"
   ]
  },
  {
   "cell_type": "code",
   "execution_count": 41,
   "id": "088697f7",
   "metadata": {},
   "outputs": [
    {
     "data": {
      "text/plain": [
       "<AxesSubplot:>"
      ]
     },
     "execution_count": 41,
     "metadata": {},
     "output_type": "execute_result"
    },
    {
     "data": {
      "image/png": "[encoded data removed]",
      "text/plain": [
       "<Figure size 432x288 with 1 Axes>"
      ]
     },
     "metadata": {
      "needs_background": "light"
     },
     "output_type": "display_data"
    }
   ],
   "source": [
    "df[\"FireplaceQu\"].value_counts().plot.bar()"
   ]
  },
  {
   "cell_type": "code",
   "execution_count": 54,
   "id": "6b4384b1",
   "metadata": {},
   "outputs": [],
   "source": [
    "def impute_nan(data,variable):\n",
    "    inputparameter=data[variable].value_counts().index[0]\n",
    "    print(inputparameter)\n",
    "    data[variable].fillna(inputparameter,inplace=True)"
   ]
  },
  {
   "cell_type": "code",
   "execution_count": 55,
   "id": "abd621e1",
   "metadata": {},
   "outputs": [
    {
     "name": "stdout",
     "output_type": "stream",
     "text": [
      "TA\n",
      "Attchd\n",
      "Gd\n"
     ]
    }
   ],
   "source": [
    "for feature in [\"BsmtQual\",\"GarageType\",\"FireplaceQu\"]:\n",
    "    impute_nan(df,feature)"
   ]
  },
  {
   "cell_type": "code",
   "execution_count": 56,
   "id": "fb6d34f9",
   "metadata": {},
   "outputs": [
    {
     "data": {
      "text/plain": [
       "BsmtQual       0\n",
       "FireplaceQu    0\n",
       "GarageType     0\n",
       "SalePrice      0\n",
       "dtype: int64"
      ]
     },
     "execution_count": 56,
     "metadata": {},
     "output_type": "execute_result"
    }
   ],
   "source": [
    "df.isnull().sum()"
   ]
  },
  {
   "cell_type": "markdown",
   "id": "8cea2447",
   "metadata": {},
   "source": [
    "#### Advantages\n",
    "Easy To implement   \n",
    "Fater way to implement \n",
    "#### Disadvantages\n",
    "Since we are using the more frequent labels, it may use them in an over respresented way, if there are many nan's  \n",
    "It distorts the relation of the most frequent label"
   ]
  },
  {
   "cell_type": "markdown",
   "id": "f2725d50",
   "metadata": {},
   "source": [
    "#### Suppose if you have more frequent categories, we just replace NAN with a new category¶\n",
    "# most used technique"
   ]
  },
  {
   "cell_type": "code",
   "execution_count": 57,
   "id": "3b2aef72",
   "metadata": {},
   "outputs": [],
   "source": [
    "df=pd.read_csv('house hold.csv', usecols=['BsmtQual','FireplaceQu','GarageType','SalePrice'])\n"
   ]
  },
  {
   "cell_type": "code",
   "execution_count": 59,
   "id": "1205f20a",
   "metadata": {},
   "outputs": [],
   "source": [
    "def impute_nan(df,variable):\n",
    "    df[variable+\"newvar\"]=np.where(df[variable].isnull(),\"Missing\",df[variable])"
   ]
  },
  {
   "cell_type": "code",
   "execution_count": 61,
   "id": "2bb8bfe5",
   "metadata": {},
   "outputs": [
    {
     "data": {
      "application/javascript": [
       "\n",
       "        if (window._pyforest_update_imports_cell) { window._pyforest_update_imports_cell('import numpy as np'); }\n",
       "    "
      ],
      "text/plain": [
       "<IPython.core.display.Javascript object>"
      ]
     },
     "metadata": {},
     "output_type": "display_data"
    },
    {
     "data": {
      "application/javascript": [
       "\n",
       "        if (window._pyforest_update_imports_cell) { window._pyforest_update_imports_cell('import numpy as np'); }\n",
       "    "
      ],
      "text/plain": [
       "<IPython.core.display.Javascript object>"
      ]
     },
     "metadata": {},
     "output_type": "display_data"
    },
    {
     "data": {
      "application/javascript": [
       "\n",
       "        if (window._pyforest_update_imports_cell) { window._pyforest_update_imports_cell('import numpy as np'); }\n",
       "    "
      ],
      "text/plain": [
       "<IPython.core.display.Javascript object>"
      ]
     },
     "metadata": {},
     "output_type": "display_data"
    }
   ],
   "source": [
    "for feature in ['BsmtQual','FireplaceQu','GarageType']:\n",
    "    impute_nan(df,feature)"
   ]
  },
  {
   "cell_type": "code",
   "execution_count": 63,
   "id": "c733bbce",
   "metadata": {},
   "outputs": [
    {
     "data": {
      "text/html": [
       "<div>\n",
       "<style scoped>\n",
       "    .dataframe tbody tr th:only-of-type {\n",
       "        vertical-align: middle;\n",
       "    }\n",
       "\n",
       "    .dataframe tbody tr th {\n",
       "        vertical-align: top;\n",
       "    }\n",
       "\n",
       "    .dataframe thead th {\n",
       "        text-align: right;\n",
       "    }\n",
       "</style>\n",
       "<table border=\"1\" class=\"dataframe\">\n",
       "  <thead>\n",
       "    <tr style=\"text-align: right;\">\n",
       "      <th></th>\n",
       "      <th>BsmtQual</th>\n",
       "      <th>FireplaceQu</th>\n",
       "      <th>GarageType</th>\n",
       "      <th>SalePrice</th>\n",
       "      <th>BsmtQualnewvar</th>\n",
       "      <th>FireplaceQunewvar</th>\n",
       "      <th>GarageTypenewvar</th>\n",
       "    </tr>\n",
       "  </thead>\n",
       "  <tbody>\n",
       "    <tr>\n",
       "      <th>0</th>\n",
       "      <td>Gd</td>\n",
       "      <td>NaN</td>\n",
       "      <td>Attchd</td>\n",
       "      <td>208500</td>\n",
       "      <td>Gd</td>\n",
       "      <td>Missing</td>\n",
       "      <td>Attchd</td>\n",
       "    </tr>\n",
       "    <tr>\n",
       "      <th>1</th>\n",
       "      <td>Gd</td>\n",
       "      <td>TA</td>\n",
       "      <td>Attchd</td>\n",
       "      <td>181500</td>\n",
       "      <td>Gd</td>\n",
       "      <td>TA</td>\n",
       "      <td>Attchd</td>\n",
       "    </tr>\n",
       "    <tr>\n",
       "      <th>2</th>\n",
       "      <td>Gd</td>\n",
       "      <td>TA</td>\n",
       "      <td>Attchd</td>\n",
       "      <td>223500</td>\n",
       "      <td>Gd</td>\n",
       "      <td>TA</td>\n",
       "      <td>Attchd</td>\n",
       "    </tr>\n",
       "    <tr>\n",
       "      <th>3</th>\n",
       "      <td>TA</td>\n",
       "      <td>Gd</td>\n",
       "      <td>Detchd</td>\n",
       "      <td>140000</td>\n",
       "      <td>TA</td>\n",
       "      <td>Gd</td>\n",
       "      <td>Detchd</td>\n",
       "    </tr>\n",
       "    <tr>\n",
       "      <th>4</th>\n",
       "      <td>Gd</td>\n",
       "      <td>TA</td>\n",
       "      <td>Attchd</td>\n",
       "      <td>250000</td>\n",
       "      <td>Gd</td>\n",
       "      <td>TA</td>\n",
       "      <td>Attchd</td>\n",
       "    </tr>\n",
       "  </tbody>\n",
       "</table>\n",
       "</div>"
      ],
      "text/plain": [
       "  BsmtQual FireplaceQu GarageType  SalePrice BsmtQualnewvar FireplaceQunewvar  \\\n",
       "0       Gd         NaN     Attchd     208500             Gd           Missing   \n",
       "1       Gd          TA     Attchd     181500             Gd                TA   \n",
       "2       Gd          TA     Attchd     223500             Gd                TA   \n",
       "3       TA          Gd     Detchd     140000             TA                Gd   \n",
       "4       Gd          TA     Attchd     250000             Gd                TA   \n",
       "\n",
       "  GarageTypenewvar  \n",
       "0           Attchd  \n",
       "1           Attchd  \n",
       "2           Attchd  \n",
       "3           Detchd  \n",
       "4           Attchd  "
      ]
     },
     "execution_count": 63,
     "metadata": {},
     "output_type": "execute_result"
    }
   ],
   "source": [
    "df.head()"
   ]
  },
  {
   "cell_type": "code",
   "execution_count": 65,
   "id": "3c593dbe",
   "metadata": {},
   "outputs": [],
   "source": [
    "df=df.drop(['BsmtQual','FireplaceQu','GarageType'],axis=1)"
   ]
  },
  {
   "cell_type": "code",
   "execution_count": 66,
   "id": "ff620bc1",
   "metadata": {},
   "outputs": [
    {
     "data": {
      "text/html": [
       "<div>\n",
       "<style scoped>\n",
       "    .dataframe tbody tr th:only-of-type {\n",
       "        vertical-align: middle;\n",
       "    }\n",
       "\n",
       "    .dataframe tbody tr th {\n",
       "        vertical-align: top;\n",
       "    }\n",
       "\n",
       "    .dataframe thead th {\n",
       "        text-align: right;\n",
       "    }\n",
       "</style>\n",
       "<table border=\"1\" class=\"dataframe\">\n",
       "  <thead>\n",
       "    <tr style=\"text-align: right;\">\n",
       "      <th></th>\n",
       "      <th>SalePrice</th>\n",
       "      <th>BsmtQualnewvar</th>\n",
       "      <th>FireplaceQunewvar</th>\n",
       "      <th>GarageTypenewvar</th>\n",
       "    </tr>\n",
       "  </thead>\n",
       "  <tbody>\n",
       "    <tr>\n",
       "      <th>0</th>\n",
       "      <td>208500</td>\n",
       "      <td>Gd</td>\n",
       "      <td>Missing</td>\n",
       "      <td>Attchd</td>\n",
       "    </tr>\n",
       "    <tr>\n",
       "      <th>1</th>\n",
       "      <td>181500</td>\n",
       "      <td>Gd</td>\n",
       "      <td>TA</td>\n",
       "      <td>Attchd</td>\n",
       "    </tr>\n",
       "    <tr>\n",
       "      <th>2</th>\n",
       "      <td>223500</td>\n",
       "      <td>Gd</td>\n",
       "      <td>TA</td>\n",
       "      <td>Attchd</td>\n",
       "    </tr>\n",
       "    <tr>\n",
       "      <th>3</th>\n",
       "      <td>140000</td>\n",
       "      <td>TA</td>\n",
       "      <td>Gd</td>\n",
       "      <td>Detchd</td>\n",
       "    </tr>\n",
       "    <tr>\n",
       "      <th>4</th>\n",
       "      <td>250000</td>\n",
       "      <td>Gd</td>\n",
       "      <td>TA</td>\n",
       "      <td>Attchd</td>\n",
       "    </tr>\n",
       "  </tbody>\n",
       "</table>\n",
       "</div>"
      ],
      "text/plain": [
       "   SalePrice BsmtQualnewvar FireplaceQunewvar GarageTypenewvar\n",
       "0     208500             Gd           Missing           Attchd\n",
       "1     181500             Gd                TA           Attchd\n",
       "2     223500             Gd                TA           Attchd\n",
       "3     140000             TA                Gd           Detchd\n",
       "4     250000             Gd                TA           Attchd"
      ]
     },
     "execution_count": 66,
     "metadata": {},
     "output_type": "execute_result"
    }
   ],
   "source": [
    "df.head()"
   ]
  },
  {
   "cell_type": "markdown",
   "id": "bfe5c0f1",
   "metadata": {},
   "source": [
    "# probability ratio encoding"
   ]
  },
  {
   "cell_type": "code",
   "execution_count": null,
   "id": "cecf63fe",
   "metadata": {},
   "outputs": [],
   "source": []
  }
 ],
 "metadata": {
  "kernelspec": {
   "display_name": "Python 3",
   "language": "python",
   "name": "python3"
  },
  "language_info": {
   "codemirror_mode": {
    "name": "ipython",
    "version": 3
   },
   "file_extension": ".py",
   "mimetype": "text/x-python",
   "name": "python",
   "nbconvert_exporter": "python",
   "pygments_lexer": "ipython3",
   "version": "3.8.8"
  }
 },
 "nbformat": 4,
 "nbformat_minor": 5
}
